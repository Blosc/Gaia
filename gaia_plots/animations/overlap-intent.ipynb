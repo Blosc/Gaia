{
 "cells": [
  {
   "cell_type": "code",
   "execution_count": 1,
   "metadata": {
    "is_executing": true
   },
   "outputs": [],
   "source": [
    "import blosc2\n",
    "import numpy as np\n",
    "import plotly.express as px\n",
    "import matplotlib.pyplot as plt\n",
    "import matplotlib.animation as animation"
   ]
  },
  {
   "cell_type": "code",
   "execution_count": 2,
   "metadata": {},
   "outputs": [],
   "source": [
    "path = '/home/blosc/gaia/gaia-3d-windows-int8-3.b2nd'"
   ]
  },
  {
   "cell_type": "code",
   "execution_count": 3,
   "metadata": {},
   "outputs": [
    {
     "data": {
      "text/html": [
       "<pre style=\"white-space:pre;overflow-x:auto;line-height:normal;font-family:Menlo,'DejaVu Sans Mono',consolas,'Courier New',monospace\"><span style=\"font-weight: bold\">{</span>\n",
       "    <span style=\"color: #008000; text-decoration-color: #008000\">'blocksize'</span>: <span style=\"color: #008080; text-decoration-color: #008080; font-weight: bold\">15625</span>,\n",
       "    <span style=\"color: #008000; text-decoration-color: #008000\">'clevel'</span>: <span style=\"color: #008080; text-decoration-color: #008080; font-weight: bold\">1</span>,\n",
       "    <span style=\"color: #008000; text-decoration-color: #008000\">'codec'</span>: <span style=\"font-weight: bold\">&lt;</span><span style=\"color: #ff00ff; text-decoration-color: #ff00ff; font-weight: bold\">Codec.ZSTD:</span><span style=\"color: #000000; text-decoration-color: #000000\"> </span><span style=\"color: #008080; text-decoration-color: #008080; font-weight: bold\">5</span><span style=\"color: #000000; text-decoration-color: #000000\">&gt;,</span>\n",
       "<span style=\"color: #000000; text-decoration-color: #000000\">    </span><span style=\"color: #008000; text-decoration-color: #008000\">'codec_meta'</span><span style=\"color: #000000; text-decoration-color: #000000\">: </span><span style=\"color: #008080; text-decoration-color: #008080; font-weight: bold\">0</span><span style=\"color: #000000; text-decoration-color: #000000\">,</span>\n",
       "<span style=\"color: #000000; text-decoration-color: #000000\">    </span><span style=\"color: #008000; text-decoration-color: #008000\">'filters'</span><span style=\"color: #000000; text-decoration-color: #000000\">: </span><span style=\"color: #000000; text-decoration-color: #000000; font-weight: bold\">[</span>\n",
       "<span style=\"color: #000000; text-decoration-color: #000000\">        &lt;Filter.NOFILTER: </span><span style=\"color: #008080; text-decoration-color: #008080; font-weight: bold\">0</span><span style=\"color: #000000; text-decoration-color: #000000\">&gt;,</span>\n",
       "<span style=\"color: #000000; text-decoration-color: #000000\">        &lt;Filter.NOFILTER: </span><span style=\"color: #008080; text-decoration-color: #008080; font-weight: bold\">0</span><span style=\"color: #000000; text-decoration-color: #000000\">&gt;,</span>\n",
       "<span style=\"color: #000000; text-decoration-color: #000000\">        &lt;Filter.NOFILTER: </span><span style=\"color: #008080; text-decoration-color: #008080; font-weight: bold\">0</span><span style=\"color: #000000; text-decoration-color: #000000\">&gt;,</span>\n",
       "<span style=\"color: #000000; text-decoration-color: #000000\">        &lt;Filter.NOFILTER: </span><span style=\"color: #008080; text-decoration-color: #008080; font-weight: bold\">0</span><span style=\"color: #000000; text-decoration-color: #000000\">&gt;,</span>\n",
       "<span style=\"color: #000000; text-decoration-color: #000000\">        &lt;Filter.NOFILTER: </span><span style=\"color: #008080; text-decoration-color: #008080; font-weight: bold\">0</span><span style=\"color: #000000; text-decoration-color: #000000\">&gt;,</span>\n",
       "<span style=\"color: #000000; text-decoration-color: #000000\">        &lt;Filter.SHUFFLE: </span><span style=\"color: #008080; text-decoration-color: #008080; font-weight: bold\">1</span><span style=\"color: #000000; text-decoration-color: #000000\">&gt;</span>\n",
       "<span style=\"color: #000000; text-decoration-color: #000000\">    </span><span style=\"color: #000000; text-decoration-color: #000000; font-weight: bold\">]</span><span style=\"color: #000000; text-decoration-color: #000000\">,</span>\n",
       "<span style=\"color: #000000; text-decoration-color: #000000\">    </span><span style=\"color: #008000; text-decoration-color: #008000\">'filters_meta'</span><span style=\"color: #000000; text-decoration-color: #000000\">: </span><span style=\"color: #000000; text-decoration-color: #000000; font-weight: bold\">[</span><span style=\"color: #008080; text-decoration-color: #008080; font-weight: bold\">0</span><span style=\"color: #000000; text-decoration-color: #000000\">, </span><span style=\"color: #008080; text-decoration-color: #008080; font-weight: bold\">0</span><span style=\"color: #000000; text-decoration-color: #000000\">, </span><span style=\"color: #008080; text-decoration-color: #008080; font-weight: bold\">0</span><span style=\"color: #000000; text-decoration-color: #000000\">, </span><span style=\"color: #008080; text-decoration-color: #008080; font-weight: bold\">0</span><span style=\"color: #000000; text-decoration-color: #000000\">, </span><span style=\"color: #008080; text-decoration-color: #008080; font-weight: bold\">0</span><span style=\"color: #000000; text-decoration-color: #000000\">, </span><span style=\"color: #008080; text-decoration-color: #008080; font-weight: bold\">0</span><span style=\"color: #000000; text-decoration-color: #000000; font-weight: bold\">]</span><span style=\"color: #000000; text-decoration-color: #000000\">,</span>\n",
       "<span style=\"color: #000000; text-decoration-color: #000000\">    </span><span style=\"color: #008000; text-decoration-color: #008000\">'nthreads'</span><span style=\"color: #000000; text-decoration-color: #000000\">: </span><span style=\"color: #008080; text-decoration-color: #008080; font-weight: bold\">16</span><span style=\"color: #000000; text-decoration-color: #000000\">,</span>\n",
       "<span style=\"color: #000000; text-decoration-color: #000000\">    </span><span style=\"color: #008000; text-decoration-color: #008000\">'splitmode'</span><span style=\"color: #000000; text-decoration-color: #000000\">: &lt;SplitMode.ALWAYS_SPLIT: </span><span style=\"color: #008080; text-decoration-color: #008080; font-weight: bold\">1</span><span style=\"font-weight: bold\">&gt;</span>,\n",
       "    <span style=\"color: #008000; text-decoration-color: #008000\">'typesize'</span>: <span style=\"color: #008080; text-decoration-color: #008080; font-weight: bold\">1</span>,\n",
       "    <span style=\"color: #008000; text-decoration-color: #008000\">'use_dict'</span>: <span style=\"color: #008080; text-decoration-color: #008080; font-weight: bold\">0</span>\n",
       "<span style=\"font-weight: bold\">}</span>\n",
       "</pre>\n"
      ],
      "text/plain": [
       "\u001b[1m{\u001b[0m\n",
       "    \u001b[32m'blocksize'\u001b[0m: \u001b[1;36m15625\u001b[0m,\n",
       "    \u001b[32m'clevel'\u001b[0m: \u001b[1;36m1\u001b[0m,\n",
       "    \u001b[32m'codec'\u001b[0m: \u001b[1m<\u001b[0m\u001b[1;95mCodec.ZSTD:\u001b[0m\u001b[39m \u001b[0m\u001b[1;36m5\u001b[0m\u001b[39m>,\u001b[0m\n",
       "\u001b[39m    \u001b[0m\u001b[32m'codec_meta'\u001b[0m\u001b[39m: \u001b[0m\u001b[1;36m0\u001b[0m\u001b[39m,\u001b[0m\n",
       "\u001b[39m    \u001b[0m\u001b[32m'filters'\u001b[0m\u001b[39m: \u001b[0m\u001b[1;39m[\u001b[0m\n",
       "\u001b[39m        <Filter.NOFILTER: \u001b[0m\u001b[1;36m0\u001b[0m\u001b[39m>,\u001b[0m\n",
       "\u001b[39m        <Filter.NOFILTER: \u001b[0m\u001b[1;36m0\u001b[0m\u001b[39m>,\u001b[0m\n",
       "\u001b[39m        <Filter.NOFILTER: \u001b[0m\u001b[1;36m0\u001b[0m\u001b[39m>,\u001b[0m\n",
       "\u001b[39m        <Filter.NOFILTER: \u001b[0m\u001b[1;36m0\u001b[0m\u001b[39m>,\u001b[0m\n",
       "\u001b[39m        <Filter.NOFILTER: \u001b[0m\u001b[1;36m0\u001b[0m\u001b[39m>,\u001b[0m\n",
       "\u001b[39m        <Filter.SHUFFLE: \u001b[0m\u001b[1;36m1\u001b[0m\u001b[39m>\u001b[0m\n",
       "\u001b[39m    \u001b[0m\u001b[1;39m]\u001b[0m\u001b[39m,\u001b[0m\n",
       "\u001b[39m    \u001b[0m\u001b[32m'filters_meta'\u001b[0m\u001b[39m: \u001b[0m\u001b[1;39m[\u001b[0m\u001b[1;36m0\u001b[0m\u001b[39m, \u001b[0m\u001b[1;36m0\u001b[0m\u001b[39m, \u001b[0m\u001b[1;36m0\u001b[0m\u001b[39m, \u001b[0m\u001b[1;36m0\u001b[0m\u001b[39m, \u001b[0m\u001b[1;36m0\u001b[0m\u001b[39m, \u001b[0m\u001b[1;36m0\u001b[0m\u001b[1;39m]\u001b[0m\u001b[39m,\u001b[0m\n",
       "\u001b[39m    \u001b[0m\u001b[32m'nthreads'\u001b[0m\u001b[39m: \u001b[0m\u001b[1;36m16\u001b[0m\u001b[39m,\u001b[0m\n",
       "\u001b[39m    \u001b[0m\u001b[32m'splitmode'\u001b[0m\u001b[39m: <SplitMode.ALWAYS_SPLIT: \u001b[0m\u001b[1;36m1\u001b[0m\u001b[1m>\u001b[0m,\n",
       "    \u001b[32m'typesize'\u001b[0m: \u001b[1;36m1\u001b[0m,\n",
       "    \u001b[32m'use_dict'\u001b[0m: \u001b[1;36m0\u001b[0m\n",
       "\u001b[1m}\u001b[0m\n"
      ]
     },
     "metadata": {},
     "output_type": "display_data"
    },
    {
     "data": {
      "text/html": [
       "<pre style=\"white-space:pre;overflow-x:auto;line-height:normal;font-family:Menlo,'DejaVu Sans Mono',consolas,'Courier New',monospace\"><span style=\"font-weight: bold\">{</span><span style=\"color: #008000; text-decoration-color: #008000\">'nthreads'</span>: <span style=\"color: #008080; text-decoration-color: #008080; font-weight: bold\">16</span><span style=\"font-weight: bold\">}</span>\n",
       "</pre>\n"
      ],
      "text/plain": [
       "\u001b[1m{\u001b[0m\u001b[32m'nthreads'\u001b[0m: \u001b[1;36m16\u001b[0m\u001b[1m}\u001b[0m\n"
      ]
     },
     "metadata": {},
     "output_type": "display_data"
    },
    {
     "data": {
      "text/html": [
       "<table class=\"NDArray-info\"><tbody><tr><th style=\"text-align: left\">type</th><td style=\"text-align: left\">NDArray</td></tr><tr><th style=\"text-align: left\">shape</th><td style=\"text-align: left\">(20000, 20000, 20000)</td></tr><tr><th style=\"text-align: left\">chunks</th><td style=\"text-align: left\">(250, 250, 250)</td></tr><tr><th style=\"text-align: left\">blocks</th><td style=\"text-align: left\">(25, 25, 25)</td></tr><tr><th style=\"text-align: left\">dtype</th><td style=\"text-align: left\">uint8</td></tr><tr><th style=\"text-align: left\">cratio</th><td style=\"text-align: left\">1140.70</td></tr><tr><th style=\"text-align: left\">cparams</th><td style=\"text-align: left\">{'codec': <Codec.ZSTD: 5>, 'codec_meta': 0, 'clevel': 1, 'use_dict': 0, 'typesize': 1, 'nthreads': 16, 'blocksize': 15625, 'splitmode': <SplitMode.ALWAYS_SPLIT: 1>, 'filters': [<Filter.NOFILTER: 0>, <Filter.NOFILTER: 0>, <Filter.NOFILTER: 0>, <Filter.NOFILTER: 0>, <Filter.NOFILTER: 0>, <Filter.SHUFFLE: 1>], 'filters_meta': [0, 0, 0, 0, 0, 0]}</td></tr><tr><th style=\"text-align: left\">dparams</th><td style=\"text-align: left\">{'nthreads': 16}</td></tr></tbody></table>"
      ],
      "text/plain": [
       "type    : NDArray\n",
       "shape   : (20000, 20000, 20000)\n",
       "chunks  : (250, 250, 250)\n",
       "blocks  : (25, 25, 25)\n",
       "dtype   : uint8\n",
       "cratio  : 1140.70\n",
       "cparams : \n",
       "dparams : "
      ]
     },
     "execution_count": 3,
     "metadata": {},
     "output_type": "execute_result"
    }
   ],
   "source": [
    "arr = blosc2.open(path)\n",
    "arr.info"
   ]
  },
  {
   "cell_type": "code",
   "execution_count": 4,
   "metadata": {},
   "outputs": [
    {
     "data": {
      "text/plain": [
       "0.25"
      ]
     },
     "execution_count": 4,
     "metadata": {},
     "output_type": "execute_result"
    }
   ],
   "source": [
    "axis = 0\n",
    "shape = arr.shape\n",
    "chunks = arr.chunks\n",
    "blocks = arr.blocks\n",
    "#start = np.array([0, 0, 0])\n",
    "start = np.array([8_000, 9_975, 9_975])\n",
    "step = np.array([10, 50, 50])\n",
    "nsegments = 15\n",
    "max_factor = 4\n",
    "min_factor = 1/4\n",
    "incr = (max_factor - min_factor) / nsegments\n",
    "incr"
   ]
  },
  {
   "cell_type": "code",
   "execution_count": 5,
   "metadata": {},
   "outputs": [],
   "source": [
    "def init_array(arr, nsegments, start, step, axis):\n",
    "    arrays = []\n",
    "    start_aux = start.copy()\n",
    "    for j in range(nsegments):\n",
    "        sl = arr[start_aux[0]: start_aux[0] + step[0], start_aux[1]:start_aux[1] + step[1], \n",
    "                 start_aux[2]:start_aux[2] + step[2]]\n",
    "        arrays.append(sl)\n",
    "        start_aux[axis] += step[axis]\n",
    "\n",
    "    return arrays"
   ]
  },
  {
   "cell_type": "code",
   "execution_count": 6,
   "metadata": {},
   "outputs": [],
   "source": [
    "def update_array(arr, nsegments, start, step, axis, arrays):\n",
    "    new_arrays = arrays[1:]\n",
    "    \n",
    "    start_aux = start.copy()\n",
    "    start_aux += (step[axis] * nsegments)\n",
    "    sl = arr[start_aux[0]: start_aux[0] + step[0], start_aux[1]:start_aux[1] + step[1], \n",
    "             start_aux[2]:start_aux[2] + step[2]]\n",
    "    new_arrays.append(sl)\n",
    "\n",
    "    return new_arrays"
   ]
  },
  {
   "cell_type": "code",
   "execution_count": 7,
   "metadata": {},
   "outputs": [],
   "source": [
    "range_x = [0, step[-1]]\n",
    "range_x[0] -= 3\n",
    "range_x[1] += 3\n",
    "range_y = [0, step[-1]]\n",
    "range_y[0] -= 3\n",
    "range_y[1] += 3\n",
    "st = 0.2"
   ]
  },
  {
   "cell_type": "code",
   "execution_count": 8,
   "metadata": {},
   "outputs": [
    {
     "data": {
      "text/plain": [
       "140"
      ]
     },
     "execution_count": 8,
     "metadata": {},
     "output_type": "execute_result"
    }
   ],
   "source": [
    "frames_path = '../frames_overlap_galaxy/'\n",
    "niter = 0\n",
    "while start[axis] + step[axis] < shape[axis] and range_x[0] < range_x[1]:\n",
    "    #print(\"start \", start)\n",
    "    #print(\"stop \", stop)\n",
    "    factor = max_factor\n",
    "    #print(\"factor \", factor)\n",
    "    if niter == 0:\n",
    "        # print(\"abans start \", start)\n",
    "        arrays = init_array(arr, nsegments, start, step, axis) \n",
    "        # print(\"dp start \", start)\n",
    "    for j in range(nsegments):\n",
    "        #if niter < 2:\n",
    "        #    print(\"start \", start)\n",
    "        #    print(\"stop \", start+ step)\n",
    "        #    print(\"factor \", factor)\n",
    "        #else:\n",
    "        #    break\n",
    "        \n",
    "        sl = arrays[j] * factor\n",
    "        if j > 1:\n",
    "            np_arrs = np.concatenate([np_arrs, sl], axis=axis)\n",
    "        elif j == 1:\n",
    "            np_arrs = np.concatenate([aux, sl], axis=axis) \n",
    "\n",
    "        aux = sl\n",
    "        factor -= incr\n",
    "    \n",
    "    img = np.sum(np_arrs, axis=axis) \n",
    "    #if niter == 2:\n",
    "    #    break\n",
    "    \n",
    "    # -------- Create frame and save it on disk ----------------------------------------\n",
    "    idx = np.indices(img.shape)\n",
    "    fig = px.scatter(x=idx[0, :, :].flatten(), y=idx[1, :, :].flatten(), \n",
    "                       size=img.flatten(), range_x=range_x, range_y=range_y,\n",
    "                    color_discrete_sequence=['white'], opacity=0.8\n",
    "                    )\n",
    "    fig.update_traces(marker=dict(symbol=\"star\"))\n",
    "    fig.update_layout(plot_bgcolor=\"black\", paper_bgcolor='white')\n",
    "    # fig.show()\n",
    "    fig.write_image(frames_path + \"{0}.png\".format(niter))\n",
    "    # ----------------------------------------------------------------------------------\n",
    "    range_x[0] += st\n",
    "    range_y[0] += st\n",
    "    range_x[1] -= st\n",
    "    range_y[1] -= st\n",
    "\n",
    "    niter += 1\n",
    "    arrays = update_array(arr, nsegments, start, step, axis, arrays)\n",
    "    start[axis] += step[axis]\n",
    "niter"
   ]
  },
  {
   "cell_type": "code",
   "execution_count": 9,
   "metadata": {},
   "outputs": [
    {
     "data": {
      "image/png": "[encoded data removed]",
      "text/plain": [
       "<Figure size 640x480 with 1 Axes>"
      ]
     },
     "metadata": {},
     "output_type": "display_data"
    }
   ],
   "source": [
    "filename = \"factor_intent_step10_nseg15_st0_2\"\n",
    "\n",
    "\n",
    "frames = [] # for storing the generated images\n",
    "fig = plt.figure()\n",
    "for i in range(niter):\n",
    "    img = plt.imread(frames_path + \"{0}.png\".format(i))\n",
    "    frames.append([plt.imshow(img, animated=True)])\n",
    "ani = animation.ArtistAnimation(fig, frames,\n",
    "                                repeat_delay=1000)\n",
    "ani.save(filename=\"./\" + filename + \".html\", writer=\"html\")\n",
    "ani.save(filename=\"./\" + filename + \".gif\", writer=\"pillow\")\n",
    "\n",
    "plt.show()"
   ]
  },
  {
   "cell_type": "code",
   "execution_count": null,
   "metadata": {},
   "outputs": [],
   "source": []
  }
 ],
 "metadata": {
  "kernelspec": {
   "display_name": "Python 3 (ipykernel)",
   "language": "python",
   "name": "python3"
  },
  "language_info": {
   "codemirror_mode": {
    "name": "ipython",
    "version": 3
   },
   "file_extension": ".py",
   "mimetype": "text/x-python",
   "name": "python",
   "nbconvert_exporter": "python",
   "pygments_lexer": "ipython3",
   "version": "3.9.16"
  }
 },
 "nbformat": 4,
 "nbformat_minor": 1
}
