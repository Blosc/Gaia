{
 "cells": [
  {
   "cell_type": "code",
   "execution_count": 1,
   "metadata": {
    "is_executing": true
   },
   "outputs": [],
   "source": [
    "import blosc2\n",
    "import numpy as np\n",
    "import plotly.express as px\n",
    "import ipywidgets as widgets"
   ]
  },
  {
   "cell_type": "code",
   "execution_count": 2,
   "metadata": {},
   "outputs": [],
   "source": [
    "path = '/home/blosc/gaia/gaia-3d-windows-int8-3.b2nd'\n",
    "# path = '/Users/martaiborra/gaia_plots/gaia-3d-windows-int8-3.b2nd'"
   ]
  },
  {
   "cell_type": "code",
   "execution_count": 3,
   "metadata": {
    "scrolled": true
   },
   "outputs": [
    {
     "data": {
      "text/html": [
       "<table class=\"NDArray-info\"><tbody><tr><th style=\"text-align: left\">type</th><td style=\"text-align: left\">NDArray</td></tr><tr><th style=\"text-align: left\">shape</th><td style=\"text-align: left\">(20000, 20000, 20000)</td></tr><tr><th style=\"text-align: left\">chunks</th><td style=\"text-align: left\">(250, 250, 250)</td></tr><tr><th style=\"text-align: left\">blocks</th><td style=\"text-align: left\">(25, 25, 25)</td></tr><tr><th style=\"text-align: left\">dtype</th><td style=\"text-align: left\">uint8</td></tr><tr><th style=\"text-align: left\">cratio</th><td style=\"text-align: left\">1140.70</td></tr><tr><th style=\"text-align: left\">cparams</th><td style=\"text-align: left\">{'codec': <Codec.ZSTD: 5>, 'codec_meta': 0, 'clevel': 1, 'use_dict': 0, 'typesize': 1, 'nthreads': 16, 'blocksize': 15625, 'splitmode': <SplitMode.ALWAYS_SPLIT: 1>, 'filters': [<Filter.NOFILTER: 0>, <Filter.NOFILTER: 0>, <Filter.NOFILTER: 0>, <Filter.NOFILTER: 0>, <Filter.NOFILTER: 0>, <Filter.SHUFFLE: 1>], 'filters_meta': [0, 0, 0, 0, 0, 0]}</td></tr><tr><th style=\"text-align: left\">dparams</th><td style=\"text-align: left\">{'nthreads': 16}</td></tr></tbody></table>"
      ],
      "text/plain": [
       "type    : NDArray\n",
       "shape   : (20000, 20000, 20000)\n",
       "chunks  : (250, 250, 250)\n",
       "blocks  : (25, 25, 25)\n",
       "dtype   : uint8\n",
       "cratio  : 1140.70\n",
       "cparams : {'blocksize': 15625,\n",
       " 'clevel': 1,\n",
       " 'codec': <Codec.ZSTD: 5>,\n",
       " 'codec_meta': 0,\n",
       " 'filters': [<Filter.NOFILTER: 0>,\n",
       "             <Filter.NOFILTER: 0>,\n",
       "             <Filter.NOFILTER: 0>,\n",
       "             <Filter.NOFILTER: 0>,\n",
       "             <Filter.NOFILTER: 0>,\n",
       "             <Filter.SHUFFLE: 1>],\n",
       " 'filters_meta': [0, 0, 0, 0, 0, 0],\n",
       " 'nthreads': 16,\n",
       " 'splitmode': <SplitMode.ALWAYS_SPLIT: 1>,\n",
       " 'typesize': 1,\n",
       " 'use_dict': 0}\n",
       "dparams : {'nthreads': 16}"
      ]
     },
     "execution_count": 3,
     "metadata": {},
     "output_type": "execute_result"
    }
   ],
   "source": [
    "arr = blosc2.open(path)\n",
    "arr.info"
   ]
  },
  {
   "cell_type": "code",
   "execution_count": 11,
   "metadata": {},
   "outputs": [],
   "source": [
    "shape = arr.shape\n",
    "cube_shape = arr.chunks\n",
    "cube_shape = np.array([100, 100, 100])\n",
    "nsegments = 10\n",
    "\n",
    "# global plot_output\n",
    "\n",
    "plot_output = widgets.Output()\n",
    "\n",
    "\n",
    "x_origin = widgets.IntText(\n",
    "    min=0,\n",
    "    max=shape[0] - cube_shape[0],\n",
    "    step=1,\n",
    "    description='X Origin:',\n",
    "    value=0\n",
    ")\n",
    "y_origin = widgets.IntText(\n",
    "    min=0,\n",
    "    max=shape[1] - cube_shape[1],\n",
    "    step=1,\n",
    "    description='Y Origin:',\n",
    "    value=0\n",
    ")\n",
    "z_origin = widgets.IntText(\n",
    "    min=0,\n",
    "    max=shape[2] - cube_shape[2],\n",
    "    step=1,\n",
    "    description='Z Origin:',\n",
    "    value=0\n",
    ")"
   ]
  },
  {
   "cell_type": "code",
   "execution_count": 12,
   "metadata": {},
   "outputs": [],
   "source": [
    "axis_widget = widgets.Dropdown(\n",
    "    options=[('x', 0), ('y', 1), ('z', 2)],\n",
    "    value=0,\n",
    "    description='Travel axis:',\n",
    "    disabled=False,\n",
    ")"
   ]
  },
  {
   "cell_type": "code",
   "execution_count": 13,
   "metadata": {},
   "outputs": [],
   "source": [
    "def init(obj):\n",
    "    global axis\n",
    "    global step\n",
    "    global start\n",
    "    global nsteps\n",
    "    global stop\n",
    "    axis = axis_widget.value\n",
    "    step = cube_shape[axis] // nsegments\n",
    "    start = np.array([x_origin.value, y_origin.value, z_origin.value]) \n",
    "    nsteps = (shape[axis] - start[axis]) // step\n",
    "    stop = start + np.array(cube_shape)\n",
    "    # print(\"start \", start)\n",
    "    # print(\"stop \", stop)"
   ]
  },
  {
   "cell_type": "code",
   "execution_count": 14,
   "metadata": {},
   "outputs": [],
   "source": [
    "def frame_func(obj):\n",
    "    obj.new\n",
    "    npa = arr[start[0]:stop[0], start[1]:stop[1], start[2]:stop[2]]\n",
    "    # print(stop)\n",
    "    # print(step)\n",
    "    # print(nsteps)\n",
    "    # print(axis)\n",
    "    img = np.sum(npa, axis=axis)     \n",
    "    idx = np.indices(img.shape)\n",
    "    fig = px.scatter(x=idx[0, :, :].flatten(), y=idx[1, :, :].flatten(), \n",
    "                     size=img.flatten(), opacity=0.8, \n",
    "                     color_discrete_sequence=['white']\n",
    "                    )\n",
    "    fig.update_traces(marker=dict(symbol=\"star\"))\n",
    "    fig.update_layout(plot_bgcolor=\"black\", paper_bgcolor='white')\n",
    "    \n",
    "    plot_output.clear_output()\n",
    "    with plot_output:\n",
    "        fig.show()\n",
    "    \n",
    "    start[axis] += step\n",
    "    stop[axis] += step\n"
   ]
  },
  {
   "cell_type": "code",
   "execution_count": 21,
   "metadata": {},
   "outputs": [],
   "source": [
    "slider = widgets.IntSlider(\n",
    "    min=0,\n",
    "    max=100,# 10_000 - 250,\n",
    "    step=25,\n",
    "    description='Travel axis origin:',\n",
    "    value=0\n",
    ")"
   ]
  },
  {
   "cell_type": "code",
   "execution_count": 19,
   "metadata": {},
   "outputs": [
    {
     "data": {
      "application/vnd.jupyter.widget-view+json": {
       "model_id": "ace9fb6dfdec4757887e6cafa93ef559",
       "version_major": 2,
       "version_minor": 0
      },
      "text/plain": [
       "Dropdown(description='Travel axis:', options=(('x', 0), ('y', 1), ('z', 2)), value=0)"
      ]
     },
     "metadata": {},
     "output_type": "display_data"
    },
    {
     "data": {
      "application/vnd.jupyter.widget-view+json": {
       "model_id": "fac7a4977c1543ceb4ddcf6cc0d2c972",
       "version_major": 2,
       "version_minor": 0
      },
      "text/plain": [
       "HBox(children=(IntText(value=0, description='X Origin:'), IntText(value=0, description='Y Origin:'), IntText(v…"
      ]
     },
     "metadata": {},
     "output_type": "display_data"
    },
    {
     "data": {
      "application/vnd.jupyter.widget-view+json": {
       "model_id": "7d612c16a79b4eee92cd0dda3f2c6d53",
       "version_major": 2,
       "version_minor": 0
      },
      "text/plain": [
       "IntSlider(value=0, description='Travel axis origin:', step=25)"
      ]
     },
     "metadata": {},
     "output_type": "display_data"
    }
   ],
   "source": [
    "display(axis_widget)\n",
    "coordinates_widgets = widgets.HBox(\n",
    "[x_origin, y_origin, z_origin])\n",
    "display(coordinates_widgets)\n",
    "\n",
    "axis_widget.observe(init, names=['value'])\n",
    "x_origin.observe(init, names=['value'])\n",
    "y_origin.observe(init, names=['value'])\n",
    "z_origin.observe(init, names=['value'])\n",
    "\n",
    "a = 0\n",
    "init(a)\n",
    "display(slider)\n",
    "slider.observe(frame_func, names=['value'])"
   ]
  },
  {
   "cell_type": "code",
   "execution_count": 20,
   "metadata": {
    "scrolled": true
   },
   "outputs": [
    {
     "data": {
      "application/vnd.jupyter.widget-view+json": {
       "model_id": "37d1a861448e4bb0a001fd7bca29082c",
       "version_major": 2,
       "version_minor": 0
      },
      "text/plain": [
       "Output()"
      ]
     },
     "metadata": {},
     "output_type": "display_data"
    }
   ],
   "source": [
    "display(plot_output)"
   ]
  },
  {
   "cell_type": "code",
   "execution_count": null,
   "metadata": {},
   "outputs": [],
   "source": []
  }
 ],
 "metadata": {
  "kernelspec": {
   "display_name": "Python 3 (ipykernel)",
   "language": "python",
   "name": "python3"
  },
  "language_info": {
   "codemirror_mode": {
    "name": "ipython",
    "version": 3
   },
   "file_extension": ".py",
   "mimetype": "text/x-python",
   "name": "python",
   "nbconvert_exporter": "python",
   "pygments_lexer": "ipython3",
   "version": "3.9.16"
  }
 },
 "nbformat": 4,
 "nbformat_minor": 1
}
